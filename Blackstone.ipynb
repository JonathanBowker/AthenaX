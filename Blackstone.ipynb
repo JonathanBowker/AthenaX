{
  "nbformat": 4,
  "nbformat_minor": 0,
  "metadata": {
    "colab": {
      "name": "Blackstone.ipynb",
      "provenance": [],
      "authorship_tag": "ABX9TyMO9FcxP2jkhRMK+g5GcsCw",
      "include_colab_link": true
    },
    "kernelspec": {
      "name": "python3",
      "display_name": "Python 3"
    },
    "accelerator": "TPU"
  },
  "cells": [
    {
      "cell_type": "markdown",
      "metadata": {
        "id": "view-in-github",
        "colab_type": "text"
      },
      "source": [
        "<a href=\"https://colab.research.google.com/github/JonathanBowker/AthenaX/blob/master/Blackstone.ipynb\" target=\"_parent\"><img src=\"https://colab.research.google.com/assets/colab-badge.svg\" alt=\"Open In Colab\"/></a>"
      ]
    },
    {
      "cell_type": "markdown",
      "metadata": {
        "id": "2Fe7iQwUecVN",
        "colab_type": "text"
      },
      "source": [
        "# Blackstone powered by spaCy [![Built with spaCy](https://img.shields.io/badge/made%20with%20❤%20and-spaCy-09a3d5.svg)](https://spacy.io)\n",
        "Blackstone is a [spaCy](https://spacy.io/) model and library for processing long-form, unstructured legal text. Blackstone is an experimental research project from the [Incorporated Council of Law Reporting for England and Wales'](https://iclr.co.uk/) research lab, [ICLR&D](https://research.iclr.co.uk/)."
      ]
    },
    {
      "cell_type": "markdown",
      "metadata": {
        "id": "yr8etqsNWA_J",
        "colab_type": "text"
      },
      "source": [
        "## Installation\n",
        "Note! It is strongly recommended that you install Blackstone into a virtual environment! See here for more on virtual environments. Blackstone should compatible with Python 3.6 and higher.\n",
        "\n",
        "To install Blackstone follow these steps:"
      ]
    },
    {
      "cell_type": "markdown",
      "metadata": {
        "id": "oZwKL6dUWDqo",
        "colab_type": "text"
      },
      "source": [
        "### 1. Install the library\n",
        "The first step is to install the library, which at present contains a handful of custom spaCy components. Install the library like so:"
      ]
    },
    {
      "cell_type": "code",
      "metadata": {
        "id": "43b0iQ-aSpzh",
        "colab_type": "code",
        "outputId": "0798339b-4d01-427d-f787-b1af434f7b00",
        "colab": {
          "base_uri": "https://localhost:8080/",
          "height": 411
        }
      },
      "source": [
        "pip install blackstone"
      ],
      "execution_count": 2,
      "outputs": [
        {
          "output_type": "stream",
          "text": [
            "Requirement already satisfied: blackstone in /usr/local/lib/python3.6/dist-packages (0.1.15)\n",
            "Requirement already satisfied: requests in /usr/local/lib/python3.6/dist-packages (from blackstone) (2.23.0)\n",
            "Requirement already satisfied: pandas in /usr/local/lib/python3.6/dist-packages (from blackstone) (1.0.3)\n",
            "Requirement already satisfied: conllu in /usr/local/lib/python3.6/dist-packages (from blackstone) (2.3.2)\n",
            "Requirement already satisfied: numpy in /usr/local/lib/python3.6/dist-packages (from blackstone) (1.18.3)\n",
            "Requirement already satisfied: spacy==2.1.8 in /usr/local/lib/python3.6/dist-packages (from blackstone) (2.1.8)\n",
            "Requirement already satisfied: idna<3,>=2.5 in /usr/local/lib/python3.6/dist-packages (from requests->blackstone) (2.9)\n",
            "Requirement already satisfied: chardet<4,>=3.0.2 in /usr/local/lib/python3.6/dist-packages (from requests->blackstone) (3.0.4)\n",
            "Requirement already satisfied: urllib3!=1.25.0,!=1.25.1,<1.26,>=1.21.1 in /usr/local/lib/python3.6/dist-packages (from requests->blackstone) (1.24.3)\n",
            "Requirement already satisfied: certifi>=2017.4.17 in /usr/local/lib/python3.6/dist-packages (from requests->blackstone) (2020.4.5.1)\n",
            "Requirement already satisfied: python-dateutil>=2.6.1 in /usr/local/lib/python3.6/dist-packages (from pandas->blackstone) (2.8.1)\n",
            "Requirement already satisfied: pytz>=2017.2 in /usr/local/lib/python3.6/dist-packages (from pandas->blackstone) (2018.9)\n",
            "Requirement already satisfied: blis<0.3.0,>=0.2.2 in /usr/local/lib/python3.6/dist-packages (from spacy==2.1.8->blackstone) (0.2.4)\n",
            "Requirement already satisfied: srsly<1.1.0,>=0.0.6 in /usr/local/lib/python3.6/dist-packages (from spacy==2.1.8->blackstone) (1.0.2)\n",
            "Requirement already satisfied: cymem<2.1.0,>=2.0.2 in /usr/local/lib/python3.6/dist-packages (from spacy==2.1.8->blackstone) (2.0.3)\n",
            "Requirement already satisfied: murmurhash<1.1.0,>=0.28.0 in /usr/local/lib/python3.6/dist-packages (from spacy==2.1.8->blackstone) (1.0.2)\n",
            "Requirement already satisfied: thinc<7.1.0,>=7.0.8 in /usr/local/lib/python3.6/dist-packages (from spacy==2.1.8->blackstone) (7.0.8)\n",
            "Requirement already satisfied: plac<1.0.0,>=0.9.6 in /usr/local/lib/python3.6/dist-packages (from spacy==2.1.8->blackstone) (0.9.6)\n",
            "Requirement already satisfied: preshed<2.1.0,>=2.0.1 in /usr/local/lib/python3.6/dist-packages (from spacy==2.1.8->blackstone) (2.0.1)\n",
            "Requirement already satisfied: wasabi<1.1.0,>=0.2.0 in /usr/local/lib/python3.6/dist-packages (from spacy==2.1.8->blackstone) (0.6.0)\n",
            "Requirement already satisfied: six>=1.5 in /usr/local/lib/python3.6/dist-packages (from python-dateutil>=2.6.1->pandas->blackstone) (1.12.0)\n",
            "Requirement already satisfied: tqdm<5.0.0,>=4.10.0 in /usr/local/lib/python3.6/dist-packages (from thinc<7.1.0,>=7.0.8->spacy==2.1.8->blackstone) (4.38.0)\n"
          ],
          "name": "stdout"
        }
      ]
    },
    {
      "cell_type": "markdown",
      "metadata": {
        "id": "tG9Y8pbUWHk7",
        "colab_type": "text"
      },
      "source": [
        "### 2. Install the Blackstone model\n",
        "The second step is to install the spaCy model. Install the model like so:"
      ]
    },
    {
      "cell_type": "code",
      "metadata": {
        "id": "VA8l4uS0Tav7",
        "colab_type": "code",
        "outputId": "cd8dec37-a401-4c7f-c2f8-24558827fa9e",
        "colab": {
          "base_uri": "https://localhost:8080/",
          "height": 479
        }
      },
      "source": [
        "pip install https://blackstone-model.s3-eu-west-1.amazonaws.com/en_blackstone_proto-0.0.1.tar.gz"
      ],
      "execution_count": 3,
      "outputs": [
        {
          "output_type": "stream",
          "text": [
            "Collecting https://blackstone-model.s3-eu-west-1.amazonaws.com/en_blackstone_proto-0.0.1.tar.gz\n",
            "\u001b[?25l  Downloading https://blackstone-model.s3-eu-west-1.amazonaws.com/en_blackstone_proto-0.0.1.tar.gz (243.3MB)\n",
            "\u001b[K     |████████████████████████████████| 243.3MB 61kB/s \n",
            "\u001b[?25hRequirement already satisfied: spacy>=2.1.6 in /usr/local/lib/python3.6/dist-packages (from en-blackstone-proto==0.0.1) (2.1.8)\n",
            "Requirement already satisfied: cymem<2.1.0,>=2.0.2 in /usr/local/lib/python3.6/dist-packages (from spacy>=2.1.6->en-blackstone-proto==0.0.1) (2.0.3)\n",
            "Requirement already satisfied: blis<0.3.0,>=0.2.2 in /usr/local/lib/python3.6/dist-packages (from spacy>=2.1.6->en-blackstone-proto==0.0.1) (0.2.4)\n",
            "Requirement already satisfied: murmurhash<1.1.0,>=0.28.0 in /usr/local/lib/python3.6/dist-packages (from spacy>=2.1.6->en-blackstone-proto==0.0.1) (1.0.2)\n",
            "Requirement already satisfied: srsly<1.1.0,>=0.0.6 in /usr/local/lib/python3.6/dist-packages (from spacy>=2.1.6->en-blackstone-proto==0.0.1) (1.0.2)\n",
            "Requirement already satisfied: thinc<7.1.0,>=7.0.8 in /usr/local/lib/python3.6/dist-packages (from spacy>=2.1.6->en-blackstone-proto==0.0.1) (7.0.8)\n",
            "Requirement already satisfied: wasabi<1.1.0,>=0.2.0 in /usr/local/lib/python3.6/dist-packages (from spacy>=2.1.6->en-blackstone-proto==0.0.1) (0.6.0)\n",
            "Requirement already satisfied: numpy>=1.15.0 in /usr/local/lib/python3.6/dist-packages (from spacy>=2.1.6->en-blackstone-proto==0.0.1) (1.18.3)\n",
            "Requirement already satisfied: plac<1.0.0,>=0.9.6 in /usr/local/lib/python3.6/dist-packages (from spacy>=2.1.6->en-blackstone-proto==0.0.1) (0.9.6)\n",
            "Requirement already satisfied: preshed<2.1.0,>=2.0.1 in /usr/local/lib/python3.6/dist-packages (from spacy>=2.1.6->en-blackstone-proto==0.0.1) (2.0.1)\n",
            "Requirement already satisfied: requests<3.0.0,>=2.13.0 in /usr/local/lib/python3.6/dist-packages (from spacy>=2.1.6->en-blackstone-proto==0.0.1) (2.23.0)\n",
            "Requirement already satisfied: tqdm<5.0.0,>=4.10.0 in /usr/local/lib/python3.6/dist-packages (from thinc<7.1.0,>=7.0.8->spacy>=2.1.6->en-blackstone-proto==0.0.1) (4.38.0)\n",
            "Requirement already satisfied: idna<3,>=2.5 in /usr/local/lib/python3.6/dist-packages (from requests<3.0.0,>=2.13.0->spacy>=2.1.6->en-blackstone-proto==0.0.1) (2.9)\n",
            "Requirement already satisfied: urllib3!=1.25.0,!=1.25.1,<1.26,>=1.21.1 in /usr/local/lib/python3.6/dist-packages (from requests<3.0.0,>=2.13.0->spacy>=2.1.6->en-blackstone-proto==0.0.1) (1.24.3)\n",
            "Requirement already satisfied: chardet<4,>=3.0.2 in /usr/local/lib/python3.6/dist-packages (from requests<3.0.0,>=2.13.0->spacy>=2.1.6->en-blackstone-proto==0.0.1) (3.0.4)\n",
            "Requirement already satisfied: certifi>=2017.4.17 in /usr/local/lib/python3.6/dist-packages (from requests<3.0.0,>=2.13.0->spacy>=2.1.6->en-blackstone-proto==0.0.1) (2020.4.5.1)\n",
            "Building wheels for collected packages: en-blackstone-proto\n",
            "  Building wheel for en-blackstone-proto (setup.py) ... \u001b[?25l\u001b[?25hdone\n",
            "  Created wheel for en-blackstone-proto: filename=en_blackstone_proto-0.0.1-cp36-none-any.whl size=243759404 sha256=8dbf8fbe193747f9557162d759178e091913f8f32843e9b916921ec29400ace8\n",
            "  Stored in directory: /root/.cache/pip/wheels/a2/81/dd/09c3b4ef7899e7d9cf92ed3152d29a08b5fd80f7a8bf66df4d\n",
            "Successfully built en-blackstone-proto\n",
            "Installing collected packages: en-blackstone-proto\n",
            "Successfully installed en-blackstone-proto-0.0.1\n"
          ],
          "name": "stdout"
        }
      ]
    },
    {
      "cell_type": "markdown",
      "metadata": {
        "id": "taeaxFVtWQj9",
        "colab_type": "text"
      },
      "source": [
        "## About the model\n",
        "\n",
        "This is the very first release of Blackstone and the model is best viewed as a *prototype*; it is rough around the edges and represents the first step in a larger ongoing programme of open source research into NLP on legal texts being carried out by ICLR&D. \n",
        "\n",
        "With that out of the way, here's a brief rundown of what's happening in the proto model."
      ]
    },
    {
      "cell_type": "markdown",
      "metadata": {
        "id": "2qkxbs1eWZB0",
        "colab_type": "text"
      },
      "source": [
        "### The pipeline\n",
        "\n",
        "The proto model included in this release has the following elements in its pipeline:\n",
        "\n",
        "<img src=\"https://iclr.s3-eu-west-1.amazonaws.com/assets/iclrand/Blackstone/blackstone_pipeline.svg\">\n",
        "\n",
        "Owing to a scarcity of labelled part-of-speech and dependency training data for legal text, the `tokenizer`, `tagger` and `parser` pipeline components have been taken from [spaCy's](https://spacy.io/) `en_core_web_sm` model. By and large, these components appear to a do a decent job, but it would be good to revisit these components with custom training data at some point in the future. \n",
        "\n",
        "The `ner` and `textcat` components are custom components trained especially for Blackstone. \n",
        "\n"
      ]
    },
    {
      "cell_type": "markdown",
      "metadata": {
        "id": "VIP817SyY0gI",
        "colab_type": "text"
      },
      "source": [
        "### Named-Entity Recogniser\n",
        "\n",
        "The NER component of the Blackstone model has been trained to detect the following entity types:\n",
        "\n",
        "| Ent        | Name           | Examples  |\n",
        "| ------------- |-------------| -----:|\n",
        "| CASENAME    | Case names | e.g. *Smith v Jones*, *In re Jones*, In *Jones'* case |\n",
        "| CITATION      | Citations (unique identifiers for reported and unreported cases)     |   e.g. (2002) 2 Cr App R 123 |\n",
        "| INSTRUMENT | Written legal instruments     |    e.g. Theft Act 1968, European Convention on Human Rights, CPR |\n",
        "| PROVISION | Unit within a written legal instrument   |    e.g. section 1, art 2(3) |\n",
        "| COURT | Court or tribunal   |    e.g. Court of Appeal, Upper Tribunal |\n",
        "| JUDGE | References to judges |    e.g. Eady J, Lord Bingham of Cornhill |"
      ]
    },
    {
      "cell_type": "markdown",
      "metadata": {
        "id": "M3deT6GmY4PQ",
        "colab_type": "text"
      },
      "source": [
        "### Text Categoriser\n",
        "\n",
        "This release of Blackstone also comes with a text categoriser. In contrast with the NER component (which has been trainined to identify tokens and series of tokens of interest), the text categoriser classifies longer spans of text, such as sentences. \n",
        "\n",
        "The Text Categoriser has been trained to classify text according to one of five mutually exclusive categories, which are as follows:\n",
        "\n",
        "| Cat        | Description  |\n",
        "| ------------- |-------------| \n",
        "| AXIOM    | The text appears to postulate a well-established principle |\n",
        "| CONCLUSION     | The text appears to make a finding, holding, determination or conclusion | \n",
        "| ISSUE | The text appears to discuss an issue or question   |  \n",
        "| LEGAL_TEST | The test appears to discuss a legal test |  \n",
        "| UNCAT | The text does not fall into one of the four categories above  |   \n"
      ]
    },
    {
      "cell_type": "markdown",
      "metadata": {
        "id": "0CyaQteBY_kK",
        "colab_type": "text"
      },
      "source": [
        "## Usage"
      ]
    },
    {
      "cell_type": "markdown",
      "metadata": {
        "id": "F6uz8_65ZBUu",
        "colab_type": "text"
      },
      "source": [
        "### Applying the NER model\n",
        "\n",
        "Here's an example of how the model is applied to some text taken from para 31 of the Divisional Court's judgment in *R (Miller) v Secretary of State for Exiting the European Union (Birnie intervening)* \\[2017] UKSC 5; \\[2018] AC 61:"
      ]
    },
    {
      "cell_type": "code",
      "metadata": {
        "id": "vIfjy-q7TxDu",
        "colab_type": "code",
        "outputId": "b8ed971a-8da0-49ea-97f8-f42da427968d",
        "colab": {
          "base_uri": "https://localhost:8080/",
          "height": 85
        }
      },
      "source": [
        "import spacy\n",
        "\n",
        "# Load the model\n",
        "nlp = spacy.load(\"en_blackstone_proto\")\n",
        "\n",
        "text = \"\"\" 31 of the Divisional Court's judgment in R (Miller) v Secretary of State for Exiting the European Union (Birnie intervening) [2017] UKSC 5; [2018] AC 61 \"\"\"\n",
        "\n",
        "# Apply the model to the text\n",
        "doc = nlp(text)\n",
        "\n",
        "# Iterate through the entities identified by the model\n",
        "for ent in doc.ents:\n",
        "    print(ent.text, ent.label_)"
      ],
      "execution_count": 1,
      "outputs": [
        {
          "output_type": "stream",
          "text": [
            "Divisional Court COURT\n",
            "R (Miller) v Secretary of State for Exiting the European Union (Birnie intervening) CASENAME\n",
            "[2017] UKSC 5 CITATION\n",
            "[2018] AC 61 CITATION\n"
          ],
          "name": "stdout"
        }
      ]
    },
    {
      "cell_type": "code",
      "metadata": {
        "id": "SNuryHIafuCk",
        "colab_type": "code",
        "outputId": "cc775af3-8463-4297-ec02-640d4ed8bb7e",
        "colab": {
          "base_uri": "https://localhost:8080/",
          "height": 51
        }
      },
      "source": [
        "from spacy.lang.en import English\n",
        "from spacy.pipeline import EntityRuler\n",
        "\n",
        "nlp = English()\n",
        "ruler = EntityRuler(nlp)\n",
        "patterns = [{\"label\": \"ORG\", \"pattern\": \"Apple\", \"id\": \"apple\"},\n",
        "            {\"label\": \"GPE\", \"pattern\": [{\"LOWER\": \"san\"}, {\"LOWER\": \"francisco\"}], \"id\": \"san-francisco\"},\n",
        "            {\"label\": \"GPE\", \"pattern\": [{\"LOWER\": \"san\"}, {\"LOWER\": \"fran\"}], \"id\": \"san-francisco\"}]\n",
        "ruler.add_patterns(patterns)\n",
        "nlp.add_pipe(ruler)\n",
        "\n",
        "doc1 = nlp(\"Apple is opening its first big office in san francisco.\")\n",
        "print([(ent.text, ent.label_, ent.ent_id_) for ent in doc1.ents])\n",
        "\n",
        "doc2 = nlp(\"Apple is opening its first big office in San Fran.\")\n",
        "print([(ent.text, ent.label_, ent.ent_id_) for ent in doc2.ents])"
      ],
      "execution_count": 0,
      "outputs": [
        {
          "output_type": "stream",
          "text": [
            "[('Apple', 'ORG', 'apple'), ('san francisco', 'GPE', 'san-francisco')]\n",
            "[('Apple', 'ORG', 'apple'), ('San Fran', 'GPE', 'san-francisco')]\n"
          ],
          "name": "stdout"
        }
      ]
    },
    {
      "cell_type": "markdown",
      "metadata": {
        "id": "RNA_CQ9zZWGr",
        "colab_type": "text"
      },
      "source": [
        "### Visualising entities\n",
        "\n",
        "[spaCy](https://spacy.io/) ships with an excellent [set of visualisers](https://spacy.io/usage/visualizers), including a visualiser for NER predicts. Blackstone comes with a custom colour palette that can be used to make it easier to distiguish entities on the source text when using displacy."
      ]
    },
    {
      "cell_type": "code",
      "metadata": {
        "id": "FYbYYkk71Pf-",
        "colab_type": "code",
        "outputId": "c16a633d-dbd4-4624-afc5-8f87e7c65009",
        "colab": {
          "base_uri": "https://localhost:8080/",
          "height": 528
        }
      },
      "source": [
        "import spacy\n",
        "from spacy import displacy\n",
        "from blackstone.displacy_palette import ner_displacy_options\n",
        "\n",
        "nlp = spacy.load(\"en_blackstone_proto\")\n",
        "\n",
        "doc = nlp(\"\"\"client undertakes to use all reasonable precautions to prevent the unauthorised\n",
        "disclosure or use of Disclosing Party’s Confidential Information. \"\"\")\n",
        "\n",
        "# Call displacy and pass `ner_displacy_options` into the option parameter`\n",
        "displacy.render(doc, style='dep', jupyter=True, options={'distance': 140})"
      ],
      "execution_count": 6,
      "outputs": [
        {
          "output_type": "display_data",
          "data": {
            "text/html": [
              "<svg xmlns=\"http://www.w3.org/2000/svg\" xmlns:xlink=\"http://www.w3.org/1999/xlink\" xml:lang=\"en\" id=\"bd54c99368554e26bd336c9de83a7835-0\" class=\"displacy\" width=\"2990\" height=\"487.0\" direction=\"ltr\" style=\"max-width: none; height: 487.0px; color: #000000; background: #ffffff; font-family: Arial; direction: ltr\">\n",
              "<text class=\"displacy-token\" fill=\"currentColor\" text-anchor=\"middle\" y=\"397.0\">\n",
              "    <tspan class=\"displacy-word\" fill=\"currentColor\" x=\"50\">client</tspan>\n",
              "    <tspan class=\"displacy-tag\" dy=\"2em\" fill=\"currentColor\" x=\"50\">NOUN</tspan>\n",
              "</text>\n",
              "\n",
              "<text class=\"displacy-token\" fill=\"currentColor\" text-anchor=\"middle\" y=\"397.0\">\n",
              "    <tspan class=\"displacy-word\" fill=\"currentColor\" x=\"190\">undertakes</tspan>\n",
              "    <tspan class=\"displacy-tag\" dy=\"2em\" fill=\"currentColor\" x=\"190\">VERB</tspan>\n",
              "</text>\n",
              "\n",
              "<text class=\"displacy-token\" fill=\"currentColor\" text-anchor=\"middle\" y=\"397.0\">\n",
              "    <tspan class=\"displacy-word\" fill=\"currentColor\" x=\"330\">to</tspan>\n",
              "    <tspan class=\"displacy-tag\" dy=\"2em\" fill=\"currentColor\" x=\"330\">PART</tspan>\n",
              "</text>\n",
              "\n",
              "<text class=\"displacy-token\" fill=\"currentColor\" text-anchor=\"middle\" y=\"397.0\">\n",
              "    <tspan class=\"displacy-word\" fill=\"currentColor\" x=\"470\">use</tspan>\n",
              "    <tspan class=\"displacy-tag\" dy=\"2em\" fill=\"currentColor\" x=\"470\">VERB</tspan>\n",
              "</text>\n",
              "\n",
              "<text class=\"displacy-token\" fill=\"currentColor\" text-anchor=\"middle\" y=\"397.0\">\n",
              "    <tspan class=\"displacy-word\" fill=\"currentColor\" x=\"610\">all</tspan>\n",
              "    <tspan class=\"displacy-tag\" dy=\"2em\" fill=\"currentColor\" x=\"610\">DET</tspan>\n",
              "</text>\n",
              "\n",
              "<text class=\"displacy-token\" fill=\"currentColor\" text-anchor=\"middle\" y=\"397.0\">\n",
              "    <tspan class=\"displacy-word\" fill=\"currentColor\" x=\"750\">reasonable</tspan>\n",
              "    <tspan class=\"displacy-tag\" dy=\"2em\" fill=\"currentColor\" x=\"750\">ADJ</tspan>\n",
              "</text>\n",
              "\n",
              "<text class=\"displacy-token\" fill=\"currentColor\" text-anchor=\"middle\" y=\"397.0\">\n",
              "    <tspan class=\"displacy-word\" fill=\"currentColor\" x=\"890\">precautions</tspan>\n",
              "    <tspan class=\"displacy-tag\" dy=\"2em\" fill=\"currentColor\" x=\"890\">NOUN</tspan>\n",
              "</text>\n",
              "\n",
              "<text class=\"displacy-token\" fill=\"currentColor\" text-anchor=\"middle\" y=\"397.0\">\n",
              "    <tspan class=\"displacy-word\" fill=\"currentColor\" x=\"1030\">to</tspan>\n",
              "    <tspan class=\"displacy-tag\" dy=\"2em\" fill=\"currentColor\" x=\"1030\">PART</tspan>\n",
              "</text>\n",
              "\n",
              "<text class=\"displacy-token\" fill=\"currentColor\" text-anchor=\"middle\" y=\"397.0\">\n",
              "    <tspan class=\"displacy-word\" fill=\"currentColor\" x=\"1170\">prevent</tspan>\n",
              "    <tspan class=\"displacy-tag\" dy=\"2em\" fill=\"currentColor\" x=\"1170\">VERB</tspan>\n",
              "</text>\n",
              "\n",
              "<text class=\"displacy-token\" fill=\"currentColor\" text-anchor=\"middle\" y=\"397.0\">\n",
              "    <tspan class=\"displacy-word\" fill=\"currentColor\" x=\"1310\">the</tspan>\n",
              "    <tspan class=\"displacy-tag\" dy=\"2em\" fill=\"currentColor\" x=\"1310\">DET</tspan>\n",
              "</text>\n",
              "\n",
              "<text class=\"displacy-token\" fill=\"currentColor\" text-anchor=\"middle\" y=\"397.0\">\n",
              "    <tspan class=\"displacy-word\" fill=\"currentColor\" x=\"1450\">unauthorised</tspan>\n",
              "    <tspan class=\"displacy-tag\" dy=\"2em\" fill=\"currentColor\" x=\"1450\">ADJ</tspan>\n",
              "</text>\n",
              "\n",
              "<text class=\"displacy-token\" fill=\"currentColor\" text-anchor=\"middle\" y=\"397.0\">\n",
              "    <tspan class=\"displacy-word\" fill=\"currentColor\" x=\"1590\">\n",
              "</tspan>\n",
              "    <tspan class=\"displacy-tag\" dy=\"2em\" fill=\"currentColor\" x=\"1590\">SPACE</tspan>\n",
              "</text>\n",
              "\n",
              "<text class=\"displacy-token\" fill=\"currentColor\" text-anchor=\"middle\" y=\"397.0\">\n",
              "    <tspan class=\"displacy-word\" fill=\"currentColor\" x=\"1730\">disclosure</tspan>\n",
              "    <tspan class=\"displacy-tag\" dy=\"2em\" fill=\"currentColor\" x=\"1730\">NOUN</tspan>\n",
              "</text>\n",
              "\n",
              "<text class=\"displacy-token\" fill=\"currentColor\" text-anchor=\"middle\" y=\"397.0\">\n",
              "    <tspan class=\"displacy-word\" fill=\"currentColor\" x=\"1870\">or</tspan>\n",
              "    <tspan class=\"displacy-tag\" dy=\"2em\" fill=\"currentColor\" x=\"1870\">CCONJ</tspan>\n",
              "</text>\n",
              "\n",
              "<text class=\"displacy-token\" fill=\"currentColor\" text-anchor=\"middle\" y=\"397.0\">\n",
              "    <tspan class=\"displacy-word\" fill=\"currentColor\" x=\"2010\">use</tspan>\n",
              "    <tspan class=\"displacy-tag\" dy=\"2em\" fill=\"currentColor\" x=\"2010\">NOUN</tspan>\n",
              "</text>\n",
              "\n",
              "<text class=\"displacy-token\" fill=\"currentColor\" text-anchor=\"middle\" y=\"397.0\">\n",
              "    <tspan class=\"displacy-word\" fill=\"currentColor\" x=\"2150\">of</tspan>\n",
              "    <tspan class=\"displacy-tag\" dy=\"2em\" fill=\"currentColor\" x=\"2150\">ADP</tspan>\n",
              "</text>\n",
              "\n",
              "<text class=\"displacy-token\" fill=\"currentColor\" text-anchor=\"middle\" y=\"397.0\">\n",
              "    <tspan class=\"displacy-word\" fill=\"currentColor\" x=\"2290\">Disclosing</tspan>\n",
              "    <tspan class=\"displacy-tag\" dy=\"2em\" fill=\"currentColor\" x=\"2290\">PROPN</tspan>\n",
              "</text>\n",
              "\n",
              "<text class=\"displacy-token\" fill=\"currentColor\" text-anchor=\"middle\" y=\"397.0\">\n",
              "    <tspan class=\"displacy-word\" fill=\"currentColor\" x=\"2430\">Party</tspan>\n",
              "    <tspan class=\"displacy-tag\" dy=\"2em\" fill=\"currentColor\" x=\"2430\">PROPN</tspan>\n",
              "</text>\n",
              "\n",
              "<text class=\"displacy-token\" fill=\"currentColor\" text-anchor=\"middle\" y=\"397.0\">\n",
              "    <tspan class=\"displacy-word\" fill=\"currentColor\" x=\"2570\">’s</tspan>\n",
              "    <tspan class=\"displacy-tag\" dy=\"2em\" fill=\"currentColor\" x=\"2570\">PROPN</tspan>\n",
              "</text>\n",
              "\n",
              "<text class=\"displacy-token\" fill=\"currentColor\" text-anchor=\"middle\" y=\"397.0\">\n",
              "    <tspan class=\"displacy-word\" fill=\"currentColor\" x=\"2710\">Confidential</tspan>\n",
              "    <tspan class=\"displacy-tag\" dy=\"2em\" fill=\"currentColor\" x=\"2710\">PROPN</tspan>\n",
              "</text>\n",
              "\n",
              "<text class=\"displacy-token\" fill=\"currentColor\" text-anchor=\"middle\" y=\"397.0\">\n",
              "    <tspan class=\"displacy-word\" fill=\"currentColor\" x=\"2850\">Information.</tspan>\n",
              "    <tspan class=\"displacy-tag\" dy=\"2em\" fill=\"currentColor\" x=\"2850\">PROPN</tspan>\n",
              "</text>\n",
              "\n",
              "<g class=\"displacy-arrow\">\n",
              "    <path class=\"displacy-arc\" id=\"arrow-bd54c99368554e26bd336c9de83a7835-0-0\" stroke-width=\"2px\" d=\"M70,352.0 C70,282.0 170.0,282.0 170.0,352.0\" fill=\"none\" stroke=\"currentColor\"/>\n",
              "    <text dy=\"1.25em\" style=\"font-size: 0.8em; letter-spacing: 1px\">\n",
              "        <textPath xlink:href=\"#arrow-bd54c99368554e26bd336c9de83a7835-0-0\" class=\"displacy-label\" startOffset=\"50%\" side=\"left\" fill=\"currentColor\" text-anchor=\"middle\">nsubj</textPath>\n",
              "    </text>\n",
              "    <path class=\"displacy-arrowhead\" d=\"M70,354.0 L62,342.0 78,342.0\" fill=\"currentColor\"/>\n",
              "</g>\n",
              "\n",
              "<g class=\"displacy-arrow\">\n",
              "    <path class=\"displacy-arc\" id=\"arrow-bd54c99368554e26bd336c9de83a7835-0-1\" stroke-width=\"2px\" d=\"M350,352.0 C350,282.0 450.0,282.0 450.0,352.0\" fill=\"none\" stroke=\"currentColor\"/>\n",
              "    <text dy=\"1.25em\" style=\"font-size: 0.8em; letter-spacing: 1px\">\n",
              "        <textPath xlink:href=\"#arrow-bd54c99368554e26bd336c9de83a7835-0-1\" class=\"displacy-label\" startOffset=\"50%\" side=\"left\" fill=\"currentColor\" text-anchor=\"middle\">aux</textPath>\n",
              "    </text>\n",
              "    <path class=\"displacy-arrowhead\" d=\"M350,354.0 L342,342.0 358,342.0\" fill=\"currentColor\"/>\n",
              "</g>\n",
              "\n",
              "<g class=\"displacy-arrow\">\n",
              "    <path class=\"displacy-arc\" id=\"arrow-bd54c99368554e26bd336c9de83a7835-0-2\" stroke-width=\"2px\" d=\"M210,352.0 C210,212.0 455.0,212.0 455.0,352.0\" fill=\"none\" stroke=\"currentColor\"/>\n",
              "    <text dy=\"1.25em\" style=\"font-size: 0.8em; letter-spacing: 1px\">\n",
              "        <textPath xlink:href=\"#arrow-bd54c99368554e26bd336c9de83a7835-0-2\" class=\"displacy-label\" startOffset=\"50%\" side=\"left\" fill=\"currentColor\" text-anchor=\"middle\">xcomp</textPath>\n",
              "    </text>\n",
              "    <path class=\"displacy-arrowhead\" d=\"M455.0,354.0 L463.0,342.0 447.0,342.0\" fill=\"currentColor\"/>\n",
              "</g>\n",
              "\n",
              "<g class=\"displacy-arrow\">\n",
              "    <path class=\"displacy-arc\" id=\"arrow-bd54c99368554e26bd336c9de83a7835-0-3\" stroke-width=\"2px\" d=\"M630,352.0 C630,212.0 875.0,212.0 875.0,352.0\" fill=\"none\" stroke=\"currentColor\"/>\n",
              "    <text dy=\"1.25em\" style=\"font-size: 0.8em; letter-spacing: 1px\">\n",
              "        <textPath xlink:href=\"#arrow-bd54c99368554e26bd336c9de83a7835-0-3\" class=\"displacy-label\" startOffset=\"50%\" side=\"left\" fill=\"currentColor\" text-anchor=\"middle\">det</textPath>\n",
              "    </text>\n",
              "    <path class=\"displacy-arrowhead\" d=\"M630,354.0 L622,342.0 638,342.0\" fill=\"currentColor\"/>\n",
              "</g>\n",
              "\n",
              "<g class=\"displacy-arrow\">\n",
              "    <path class=\"displacy-arc\" id=\"arrow-bd54c99368554e26bd336c9de83a7835-0-4\" stroke-width=\"2px\" d=\"M770,352.0 C770,282.0 870.0,282.0 870.0,352.0\" fill=\"none\" stroke=\"currentColor\"/>\n",
              "    <text dy=\"1.25em\" style=\"font-size: 0.8em; letter-spacing: 1px\">\n",
              "        <textPath xlink:href=\"#arrow-bd54c99368554e26bd336c9de83a7835-0-4\" class=\"displacy-label\" startOffset=\"50%\" side=\"left\" fill=\"currentColor\" text-anchor=\"middle\">amod</textPath>\n",
              "    </text>\n",
              "    <path class=\"displacy-arrowhead\" d=\"M770,354.0 L762,342.0 778,342.0\" fill=\"currentColor\"/>\n",
              "</g>\n",
              "\n",
              "<g class=\"displacy-arrow\">\n",
              "    <path class=\"displacy-arc\" id=\"arrow-bd54c99368554e26bd336c9de83a7835-0-5\" stroke-width=\"2px\" d=\"M490,352.0 C490,142.0 880.0,142.0 880.0,352.0\" fill=\"none\" stroke=\"currentColor\"/>\n",
              "    <text dy=\"1.25em\" style=\"font-size: 0.8em; letter-spacing: 1px\">\n",
              "        <textPath xlink:href=\"#arrow-bd54c99368554e26bd336c9de83a7835-0-5\" class=\"displacy-label\" startOffset=\"50%\" side=\"left\" fill=\"currentColor\" text-anchor=\"middle\">dobj</textPath>\n",
              "    </text>\n",
              "    <path class=\"displacy-arrowhead\" d=\"M880.0,354.0 L888.0,342.0 872.0,342.0\" fill=\"currentColor\"/>\n",
              "</g>\n",
              "\n",
              "<g class=\"displacy-arrow\">\n",
              "    <path class=\"displacy-arc\" id=\"arrow-bd54c99368554e26bd336c9de83a7835-0-6\" stroke-width=\"2px\" d=\"M1050,352.0 C1050,282.0 1150.0,282.0 1150.0,352.0\" fill=\"none\" stroke=\"currentColor\"/>\n",
              "    <text dy=\"1.25em\" style=\"font-size: 0.8em; letter-spacing: 1px\">\n",
              "        <textPath xlink:href=\"#arrow-bd54c99368554e26bd336c9de83a7835-0-6\" class=\"displacy-label\" startOffset=\"50%\" side=\"left\" fill=\"currentColor\" text-anchor=\"middle\">aux</textPath>\n",
              "    </text>\n",
              "    <path class=\"displacy-arrowhead\" d=\"M1050,354.0 L1042,342.0 1058,342.0\" fill=\"currentColor\"/>\n",
              "</g>\n",
              "\n",
              "<g class=\"displacy-arrow\">\n",
              "    <path class=\"displacy-arc\" id=\"arrow-bd54c99368554e26bd336c9de83a7835-0-7\" stroke-width=\"2px\" d=\"M490,352.0 C490,2.0 1170.0,2.0 1170.0,352.0\" fill=\"none\" stroke=\"currentColor\"/>\n",
              "    <text dy=\"1.25em\" style=\"font-size: 0.8em; letter-spacing: 1px\">\n",
              "        <textPath xlink:href=\"#arrow-bd54c99368554e26bd336c9de83a7835-0-7\" class=\"displacy-label\" startOffset=\"50%\" side=\"left\" fill=\"currentColor\" text-anchor=\"middle\">xcomp</textPath>\n",
              "    </text>\n",
              "    <path class=\"displacy-arrowhead\" d=\"M1170.0,354.0 L1178.0,342.0 1162.0,342.0\" fill=\"currentColor\"/>\n",
              "</g>\n",
              "\n",
              "<g class=\"displacy-arrow\">\n",
              "    <path class=\"displacy-arc\" id=\"arrow-bd54c99368554e26bd336c9de83a7835-0-8\" stroke-width=\"2px\" d=\"M1330,352.0 C1330,142.0 1720.0,142.0 1720.0,352.0\" fill=\"none\" stroke=\"currentColor\"/>\n",
              "    <text dy=\"1.25em\" style=\"font-size: 0.8em; letter-spacing: 1px\">\n",
              "        <textPath xlink:href=\"#arrow-bd54c99368554e26bd336c9de83a7835-0-8\" class=\"displacy-label\" startOffset=\"50%\" side=\"left\" fill=\"currentColor\" text-anchor=\"middle\">det</textPath>\n",
              "    </text>\n",
              "    <path class=\"displacy-arrowhead\" d=\"M1330,354.0 L1322,342.0 1338,342.0\" fill=\"currentColor\"/>\n",
              "</g>\n",
              "\n",
              "<g class=\"displacy-arrow\">\n",
              "    <path class=\"displacy-arc\" id=\"arrow-bd54c99368554e26bd336c9de83a7835-0-9\" stroke-width=\"2px\" d=\"M1470,352.0 C1470,212.0 1715.0,212.0 1715.0,352.0\" fill=\"none\" stroke=\"currentColor\"/>\n",
              "    <text dy=\"1.25em\" style=\"font-size: 0.8em; letter-spacing: 1px\">\n",
              "        <textPath xlink:href=\"#arrow-bd54c99368554e26bd336c9de83a7835-0-9\" class=\"displacy-label\" startOffset=\"50%\" side=\"left\" fill=\"currentColor\" text-anchor=\"middle\">amod</textPath>\n",
              "    </text>\n",
              "    <path class=\"displacy-arrowhead\" d=\"M1470,354.0 L1462,342.0 1478,342.0\" fill=\"currentColor\"/>\n",
              "</g>\n",
              "\n",
              "<g class=\"displacy-arrow\">\n",
              "    <path class=\"displacy-arc\" id=\"arrow-bd54c99368554e26bd336c9de83a7835-0-10\" stroke-width=\"2px\" d=\"M1470,352.0 C1470,282.0 1570.0,282.0 1570.0,352.0\" fill=\"none\" stroke=\"currentColor\"/>\n",
              "    <text dy=\"1.25em\" style=\"font-size: 0.8em; letter-spacing: 1px\">\n",
              "        <textPath xlink:href=\"#arrow-bd54c99368554e26bd336c9de83a7835-0-10\" class=\"displacy-label\" startOffset=\"50%\" side=\"left\" fill=\"currentColor\" text-anchor=\"middle\"></textPath>\n",
              "    </text>\n",
              "    <path class=\"displacy-arrowhead\" d=\"M1570.0,354.0 L1578.0,342.0 1562.0,342.0\" fill=\"currentColor\"/>\n",
              "</g>\n",
              "\n",
              "<g class=\"displacy-arrow\">\n",
              "    <path class=\"displacy-arc\" id=\"arrow-bd54c99368554e26bd336c9de83a7835-0-11\" stroke-width=\"2px\" d=\"M1190,352.0 C1190,72.0 1725.0,72.0 1725.0,352.0\" fill=\"none\" stroke=\"currentColor\"/>\n",
              "    <text dy=\"1.25em\" style=\"font-size: 0.8em; letter-spacing: 1px\">\n",
              "        <textPath xlink:href=\"#arrow-bd54c99368554e26bd336c9de83a7835-0-11\" class=\"displacy-label\" startOffset=\"50%\" side=\"left\" fill=\"currentColor\" text-anchor=\"middle\">dobj</textPath>\n",
              "    </text>\n",
              "    <path class=\"displacy-arrowhead\" d=\"M1725.0,354.0 L1733.0,342.0 1717.0,342.0\" fill=\"currentColor\"/>\n",
              "</g>\n",
              "\n",
              "<g class=\"displacy-arrow\">\n",
              "    <path class=\"displacy-arc\" id=\"arrow-bd54c99368554e26bd336c9de83a7835-0-12\" stroke-width=\"2px\" d=\"M1750,352.0 C1750,282.0 1850.0,282.0 1850.0,352.0\" fill=\"none\" stroke=\"currentColor\"/>\n",
              "    <text dy=\"1.25em\" style=\"font-size: 0.8em; letter-spacing: 1px\">\n",
              "        <textPath xlink:href=\"#arrow-bd54c99368554e26bd336c9de83a7835-0-12\" class=\"displacy-label\" startOffset=\"50%\" side=\"left\" fill=\"currentColor\" text-anchor=\"middle\">cc</textPath>\n",
              "    </text>\n",
              "    <path class=\"displacy-arrowhead\" d=\"M1850.0,354.0 L1858.0,342.0 1842.0,342.0\" fill=\"currentColor\"/>\n",
              "</g>\n",
              "\n",
              "<g class=\"displacy-arrow\">\n",
              "    <path class=\"displacy-arc\" id=\"arrow-bd54c99368554e26bd336c9de83a7835-0-13\" stroke-width=\"2px\" d=\"M1750,352.0 C1750,212.0 1995.0,212.0 1995.0,352.0\" fill=\"none\" stroke=\"currentColor\"/>\n",
              "    <text dy=\"1.25em\" style=\"font-size: 0.8em; letter-spacing: 1px\">\n",
              "        <textPath xlink:href=\"#arrow-bd54c99368554e26bd336c9de83a7835-0-13\" class=\"displacy-label\" startOffset=\"50%\" side=\"left\" fill=\"currentColor\" text-anchor=\"middle\">conj</textPath>\n",
              "    </text>\n",
              "    <path class=\"displacy-arrowhead\" d=\"M1995.0,354.0 L2003.0,342.0 1987.0,342.0\" fill=\"currentColor\"/>\n",
              "</g>\n",
              "\n",
              "<g class=\"displacy-arrow\">\n",
              "    <path class=\"displacy-arc\" id=\"arrow-bd54c99368554e26bd336c9de83a7835-0-14\" stroke-width=\"2px\" d=\"M1750,352.0 C1750,142.0 2140.0,142.0 2140.0,352.0\" fill=\"none\" stroke=\"currentColor\"/>\n",
              "    <text dy=\"1.25em\" style=\"font-size: 0.8em; letter-spacing: 1px\">\n",
              "        <textPath xlink:href=\"#arrow-bd54c99368554e26bd336c9de83a7835-0-14\" class=\"displacy-label\" startOffset=\"50%\" side=\"left\" fill=\"currentColor\" text-anchor=\"middle\">prep</textPath>\n",
              "    </text>\n",
              "    <path class=\"displacy-arrowhead\" d=\"M2140.0,354.0 L2148.0,342.0 2132.0,342.0\" fill=\"currentColor\"/>\n",
              "</g>\n",
              "\n",
              "<g class=\"displacy-arrow\">\n",
              "    <path class=\"displacy-arc\" id=\"arrow-bd54c99368554e26bd336c9de83a7835-0-15\" stroke-width=\"2px\" d=\"M2310,352.0 C2310,282.0 2410.0,282.0 2410.0,352.0\" fill=\"none\" stroke=\"currentColor\"/>\n",
              "    <text dy=\"1.25em\" style=\"font-size: 0.8em; letter-spacing: 1px\">\n",
              "        <textPath xlink:href=\"#arrow-bd54c99368554e26bd336c9de83a7835-0-15\" class=\"displacy-label\" startOffset=\"50%\" side=\"left\" fill=\"currentColor\" text-anchor=\"middle\">compound</textPath>\n",
              "    </text>\n",
              "    <path class=\"displacy-arrowhead\" d=\"M2310,354.0 L2302,342.0 2318,342.0\" fill=\"currentColor\"/>\n",
              "</g>\n",
              "\n",
              "<g class=\"displacy-arrow\">\n",
              "    <path class=\"displacy-arc\" id=\"arrow-bd54c99368554e26bd336c9de83a7835-0-16\" stroke-width=\"2px\" d=\"M2450,352.0 C2450,282.0 2550.0,282.0 2550.0,352.0\" fill=\"none\" stroke=\"currentColor\"/>\n",
              "    <text dy=\"1.25em\" style=\"font-size: 0.8em; letter-spacing: 1px\">\n",
              "        <textPath xlink:href=\"#arrow-bd54c99368554e26bd336c9de83a7835-0-16\" class=\"displacy-label\" startOffset=\"50%\" side=\"left\" fill=\"currentColor\" text-anchor=\"middle\">compound</textPath>\n",
              "    </text>\n",
              "    <path class=\"displacy-arrowhead\" d=\"M2450,354.0 L2442,342.0 2458,342.0\" fill=\"currentColor\"/>\n",
              "</g>\n",
              "\n",
              "<g class=\"displacy-arrow\">\n",
              "    <path class=\"displacy-arc\" id=\"arrow-bd54c99368554e26bd336c9de83a7835-0-17\" stroke-width=\"2px\" d=\"M2590,352.0 C2590,212.0 2835.0,212.0 2835.0,352.0\" fill=\"none\" stroke=\"currentColor\"/>\n",
              "    <text dy=\"1.25em\" style=\"font-size: 0.8em; letter-spacing: 1px\">\n",
              "        <textPath xlink:href=\"#arrow-bd54c99368554e26bd336c9de83a7835-0-17\" class=\"displacy-label\" startOffset=\"50%\" side=\"left\" fill=\"currentColor\" text-anchor=\"middle\">compound</textPath>\n",
              "    </text>\n",
              "    <path class=\"displacy-arrowhead\" d=\"M2590,354.0 L2582,342.0 2598,342.0\" fill=\"currentColor\"/>\n",
              "</g>\n",
              "\n",
              "<g class=\"displacy-arrow\">\n",
              "    <path class=\"displacy-arc\" id=\"arrow-bd54c99368554e26bd336c9de83a7835-0-18\" stroke-width=\"2px\" d=\"M2730,352.0 C2730,282.0 2830.0,282.0 2830.0,352.0\" fill=\"none\" stroke=\"currentColor\"/>\n",
              "    <text dy=\"1.25em\" style=\"font-size: 0.8em; letter-spacing: 1px\">\n",
              "        <textPath xlink:href=\"#arrow-bd54c99368554e26bd336c9de83a7835-0-18\" class=\"displacy-label\" startOffset=\"50%\" side=\"left\" fill=\"currentColor\" text-anchor=\"middle\">compound</textPath>\n",
              "    </text>\n",
              "    <path class=\"displacy-arrowhead\" d=\"M2730,354.0 L2722,342.0 2738,342.0\" fill=\"currentColor\"/>\n",
              "</g>\n",
              "\n",
              "<g class=\"displacy-arrow\">\n",
              "    <path class=\"displacy-arc\" id=\"arrow-bd54c99368554e26bd336c9de83a7835-0-19\" stroke-width=\"2px\" d=\"M2170,352.0 C2170,2.0 2850.0,2.0 2850.0,352.0\" fill=\"none\" stroke=\"currentColor\"/>\n",
              "    <text dy=\"1.25em\" style=\"font-size: 0.8em; letter-spacing: 1px\">\n",
              "        <textPath xlink:href=\"#arrow-bd54c99368554e26bd336c9de83a7835-0-19\" class=\"displacy-label\" startOffset=\"50%\" side=\"left\" fill=\"currentColor\" text-anchor=\"middle\">pobj</textPath>\n",
              "    </text>\n",
              "    <path class=\"displacy-arrowhead\" d=\"M2850.0,354.0 L2858.0,342.0 2842.0,342.0\" fill=\"currentColor\"/>\n",
              "</g>\n",
              "</svg>"
            ],
            "text/plain": [
              "<IPython.core.display.HTML object>"
            ]
          },
          "metadata": {
            "tags": []
          }
        }
      ]
    },
    {
      "cell_type": "markdown",
      "metadata": {
        "id": "-eAZH8P04qtW",
        "colab_type": "text"
      },
      "source": [
        "Which produces something that looks like this:\n",
        "\n",
        "<img src=\"https://spacy.io/static/8fe99e684dc9fe58e0907b8b813a0774/203d3/displacy_jupyter.webp\">"
      ]
    },
    {
      "cell_type": "code",
      "metadata": {
        "id": "5JtiKoq9UCbK",
        "colab_type": "code",
        "colab": {
          "base_uri": "https://localhost:8080/",
          "height": 492
        },
        "outputId": "741c5697-a5f4-4141-ccae-0478ac8ace7d"
      },
      "source": [
        "\"\"\"\n",
        "Visualise entities using spaCy's displacy visualiser. \n",
        "\n",
        "Blackstone has a custom colour palette: `from blackstone.displacy_palette import ner_displacy options`\n",
        "\"\"\"\n",
        "\n",
        "import spacy\n",
        "from spacy import displacy\n",
        "from blackstone.displacy_palette import ner_displacy_options\n",
        "\n",
        "nlp = spacy.load(\"en_blackstone_proto\")\n",
        "\n",
        "\n",
        "\n",
        "doc = nlp(\"\"\"\n",
        "The applicant must satisfy a high standard. This is a case where the action is to be tried by a judge with a jury. The standard is set out in Jameel v Wall Street Journal Europe Sprl [2004] EMLR 89, para 14:\n",
        "“But every time a meaning is shut out (including any holding that the words complained of either are, or are not, capable of bearing a defamatory meaning) it must be remembered that the judge is taking it upon himself to rule in effect that any jury would be perverse to take a different view on the question. It is a high threshold of exclusion. Ever since Fox’s Act 1792 (32 Geo 3, c 60) the meaning of words in civil as well as criminal libel proceedings has been constitutionally a matter for the jury. The judge’s function is no more and no less than to pre-empt perversity. That being clearly the position with regard to whether or not words are capable of being understood as defamatory or, as the case may be, non-defamatory, I see no basis on which it could sensibly be otherwise with regard to differing levels of defamatory meaning. Often the question whether words are defamatory at all and, if so, what level of defamatory meaning they bear will overlap.”\n",
        "18 In Berezovsky v Forbes Inc [2001] EMLR 1030, para 16 Sedley LJ had stated the test this way:\n",
        "“The real question in the present case is how the courts ought to go about ascertaining the range of legitimate meanings. Eady J regarded it as a matter of impression. That is all right, it seems to us, provided that the impression is not of what the words mean but of what a jury could sensibly think they meant. Such an exercise is an exercise in generosity, not in parsimony.”\n",
        "\"\"\")\n",
        "\n",
        "# Call displacy and pass `ner_displacy_options` into the option parameter`\n",
        "displacy.render(doc, style='ent', jupyter=True, options=ner_displacy_options)"
      ],
      "execution_count": 7,
      "outputs": [
        {
          "output_type": "display_data",
          "data": {
            "text/html": [
              "<div class=\"entities\" style=\"line-height: 2.5; direction: ltr\"></br>The applicant must satisfy a high standard. This is a case where the action is to be tried by a judge with a jury. The standard is set out in \n",
              "<mark class=\"entity\" style=\"background: #da3650; padding: 0.45em 0.6em; margin: 0 0.25em; line-height: 1; border-radius: 0.35em; box-decoration-break: clone; -webkit-box-decoration-break: clone\">\n",
              "    Jameel v Wall Street Journal Europe Sprl\n",
              "    <span style=\"font-size: 0.8em; font-weight: bold; line-height: 1; border-radius: 0.35em; text-transform: uppercase; vertical-align: middle; margin-left: 0.5rem\">CASENAME</span>\n",
              "</mark>\n",
              " \n",
              "<mark class=\"entity\" style=\"background: #67328b; padding: 0.45em 0.6em; margin: 0 0.25em; line-height: 1; border-radius: 0.35em; box-decoration-break: clone; -webkit-box-decoration-break: clone\">\n",
              "    [2004] EMLR 89\n",
              "    <span style=\"font-size: 0.8em; font-weight: bold; line-height: 1; border-radius: 0.35em; text-transform: uppercase; vertical-align: middle; margin-left: 0.5rem\">CITATION</span>\n",
              "</mark>\n",
              ", para 14:</br>“But every time a meaning is shut out (including any holding that the words complained of either are, or are not, capable of bearing a defamatory meaning) it must be remembered that the judge is taking it upon himself to rule in effect that any jury would be perverse to take a different view on the question. It is a high threshold of exclusion. Ever since \n",
              "<mark class=\"entity\" style=\"background: #6c63a5; padding: 0.45em 0.6em; margin: 0 0.25em; line-height: 1; border-radius: 0.35em; box-decoration-break: clone; -webkit-box-decoration-break: clone\">\n",
              "    Fox’s Act 1792\n",
              "    <span style=\"font-size: 0.8em; font-weight: bold; line-height: 1; border-radius: 0.35em; text-transform: uppercase; vertical-align: middle; margin-left: 0.5rem\">INSTRUMENT</span>\n",
              "</mark>\n",
              " (32 \n",
              "<mark class=\"entity\" style=\"background: #007bac; padding: 0.45em 0.6em; margin: 0 0.25em; line-height: 1; border-radius: 0.35em; box-decoration-break: clone; -webkit-box-decoration-break: clone\">\n",
              "    Geo 3\n",
              "    <span style=\"font-size: 0.8em; font-weight: bold; line-height: 1; border-radius: 0.35em; text-transform: uppercase; vertical-align: middle; margin-left: 0.5rem\">PROVISION</span>\n",
              "</mark>\n",
              ", c 60) the meaning of words in civil as well as criminal libel proceedings has been constitutionally a matter for the jury. The judge’s function is no more and no less than to pre-empt perversity. That being clearly the position with regard to whether or not words are capable of being understood as defamatory or, as the case may be, non-defamatory, I see no basis on which it could sensibly be otherwise with regard to differing levels of defamatory meaning. Often the question whether words are defamatory at all and, if so, what level of defamatory meaning they bear will overlap.”</br>18 In \n",
              "<mark class=\"entity\" style=\"background: #da3650; padding: 0.45em 0.6em; margin: 0 0.25em; line-height: 1; border-radius: 0.35em; box-decoration-break: clone; -webkit-box-decoration-break: clone\">\n",
              "    Berezovsky v Forbes Inc\n",
              "    <span style=\"font-size: 0.8em; font-weight: bold; line-height: 1; border-radius: 0.35em; text-transform: uppercase; vertical-align: middle; margin-left: 0.5rem\">CASENAME</span>\n",
              "</mark>\n",
              " \n",
              "<mark class=\"entity\" style=\"background: #67328b; padding: 0.45em 0.6em; margin: 0 0.25em; line-height: 1; border-radius: 0.35em; box-decoration-break: clone; -webkit-box-decoration-break: clone\">\n",
              "    [2001] EMLR 1030\n",
              "    <span style=\"font-size: 0.8em; font-weight: bold; line-height: 1; border-radius: 0.35em; text-transform: uppercase; vertical-align: middle; margin-left: 0.5rem\">CITATION</span>\n",
              "</mark>\n",
              ", para 16 \n",
              "<mark class=\"entity\" style=\"background: #00a594; padding: 0.45em 0.6em; margin: 0 0.25em; line-height: 1; border-radius: 0.35em; box-decoration-break: clone; -webkit-box-decoration-break: clone\">\n",
              "    Sedley LJ\n",
              "    <span style=\"font-size: 0.8em; font-weight: bold; line-height: 1; border-radius: 0.35em; text-transform: uppercase; vertical-align: middle; margin-left: 0.5rem\">JUDGE</span>\n",
              "</mark>\n",
              " had stated the test this way:</br>“The real question in the present case is how the courts ought to go about ascertaining the range of legitimate meanings. \n",
              "<mark class=\"entity\" style=\"background: #00a594; padding: 0.45em 0.6em; margin: 0 0.25em; line-height: 1; border-radius: 0.35em; box-decoration-break: clone; -webkit-box-decoration-break: clone\">\n",
              "    Eady J\n",
              "    <span style=\"font-size: 0.8em; font-weight: bold; line-height: 1; border-radius: 0.35em; text-transform: uppercase; vertical-align: middle; margin-left: 0.5rem\">JUDGE</span>\n",
              "</mark>\n",
              " regarded it as a matter of impression. That is all right, it seems to us, provided that the impression is not of what the words mean but of what a jury could sensibly think they meant. Such an exercise is an exercise in generosity, not in parsimony.”\n",
              "</div>"
            ],
            "text/plain": [
              "<IPython.core.display.HTML object>"
            ]
          },
          "metadata": {
            "tags": []
          }
        }
      ]
    },
    {
      "cell_type": "markdown",
      "metadata": {
        "id": "wVo0dgDDZc3j",
        "colab_type": "text"
      },
      "source": [
        "Which produces something that looks like this:\n",
        "\n",
        "<img src=\"https://iclr.s3-eu-west-1.amazonaws.com/assets/iclrand/Blackstone/displacy.png\">"
      ]
    },
    {
      "cell_type": "markdown",
      "metadata": {
        "id": "LD3v8qjAaIQm",
        "colab_type": "text"
      },
      "source": [
        "### Applying the text categoriser model\n",
        "\n",
        "Blackstone's text categoriser generates a predicted categorisation for a `doc`. The `textcat` pipeline component has been designed to be applied to individual sentences rather than a single document consisting of many sentences. "
      ]
    },
    {
      "cell_type": "code",
      "metadata": {
        "id": "KUYJKjgHUCQX",
        "colab_type": "code",
        "outputId": "d1706aa9-241b-4f4b-9ae2-74c6d9467a6a",
        "colab": {
          "base_uri": "https://localhost:8080/",
          "height": 207
        }
      },
      "source": [
        "import spacy\n",
        "\n",
        "# Load the model\n",
        "nlp = spacy.load(\"en_blackstone_proto\")\n",
        "\n",
        "def get_top_cat(doc):\n",
        "    \"\"\"\n",
        "    Function to identify the highest scoring category\n",
        "    prediction generated by the text categoriser. \n",
        "    \"\"\"\n",
        "    cats = doc.cats\n",
        "    max_score = max(cats.values()) \n",
        "    max_cats = [k for k, v in cats.items() if v == max_score]\n",
        "    max_cat = max_cats[0]\n",
        "    return (max_cat, max_score)\n",
        "\n",
        "text = \"\"\"\n",
        "It is a well-established principle of law that the transactions of independent states between each other are governed by other laws than those which municipal courts administer. \\\n",
        "It is, however, in my judgment, insufficient to react to the danger of over-formalisation and “judicialisation” simply by emphasising flexibility and context-sensitivity. \\\n",
        "The question is whether on the facts found by the judge, the (or a) proximate cause of the loss of the rig was “inherent vice or nature of the subject matter insured” within the meaning of clause 4.4 of the Institute Cargo Clauses (A).\n",
        "\"\"\"\n",
        "\n",
        "# Apply the model to the text\n",
        "doc = nlp(text)\n",
        "\n",
        "# Get the sentences in the passage of text\n",
        "sentences = [sent.text for sent in doc.sents]\n",
        "\n",
        "# Print the sentence and the corresponding predicted category.\n",
        "for sentence in sentences:\n",
        "    doc = nlp(sentence)\n",
        "    top_category = get_top_cat(doc)\n",
        "    print (f\"\\\"{sentence}\\\" {top_category}\\n\")"
      ],
      "execution_count": 8,
      "outputs": [
        {
          "output_type": "stream",
          "text": [
            "\"\n",
            "It is a well-established principle of law that the transactions of independent states between each other are governed by other laws than those which municipal courts administer.\" ('AXIOM', 0.9461941123008728)\n",
            "\n",
            "\"It is, however, in my judgment, insufficient to react to the danger of over-formalisation and “judicialisation” simply by emphasising flexibility and context-sensitivity.\" ('CONCLUSION', 0.9293838143348694)\n",
            "\n",
            "\"The question is whether on the facts found by the judge, the (or a) proximate cause of the loss of the rig was “inherent vice or nature of the subject matter insured” within the meaning of clause 4.4 of the Institute Cargo Clauses (A).\" ('ISSUE', 0.5091703534126282)\n",
            "\n",
            "\"\n",
            "\" ('UNCAT', 1.0)\n",
            "\n"
          ],
          "name": "stdout"
        }
      ]
    },
    {
      "cell_type": "markdown",
      "metadata": {
        "id": "_WYLHaOFaQhW",
        "colab_type": "text"
      },
      "source": [
        "## Custom pipeline extensions\n",
        "\n",
        "In addition to the core model, this proto release of Blackstone comes with three custom components:\n",
        "\n",
        "* Abbreviation detection - this is *heavily* based on the `AbbreviationDetector()` component in [scispacy] and resolves an abbreviated form to its long form definition, e.g. `ECtHR` -> `European Court of Human Rights`.\n",
        "* Legislation linker - this is an alpha component that attempts to resolve references to provisons to their parent instrument (more on this further down the README).\n",
        "* Compound case reference detection - again, this is an alpha component that attempts identify `CASENAME` and `CITATION` pairs enabling the merging of a `CITATION` to its parent `CASENAME`.\n"
      ]
    },
    {
      "cell_type": "code",
      "metadata": {
        "id": "Tuy4V7B4UYza",
        "colab_type": "code",
        "outputId": "42ca3083-0b0b-4761-cd96-e8d39b23a5b4",
        "colab": {
          "base_uri": "https://localhost:8080/",
          "height": 68
        }
      },
      "source": [
        "import spacy\n",
        "from blackstone.pipeline.abbreviations import AbbreviationDetector\n",
        "\n",
        "nlp = spacy.load(\"en_blackstone_proto\")\n",
        "\n",
        "# Add the abbreviation pipe to the spacy pipeline.\n",
        "abbreviation_pipe = AbbreviationDetector(nlp)\n",
        "nlp.add_pipe(abbreviation_pipe)\n",
        "\n",
        "doc = nlp('The European Court of Human Rights (\"ECtHR\") is the court ultimately responsible for applying the European Convention on Human Rights (\"ECHR\").')\n",
        "\n",
        "print(\"Abbreviation\", \"\\t\", \"Definition\")\n",
        "for abrv in doc._.abbreviations:\n",
        "\tprint(f\"{abrv} \\t ({abrv.start}, {abrv.end}) {abrv._.long_form}\")"
      ],
      "execution_count": 9,
      "outputs": [
        {
          "output_type": "stream",
          "text": [
            "Abbreviation \t Definition\n",
            "\"ECtHR\" \t (7, 10) European Court of Human Rights\n",
            "\"ECHR\" \t (25, 28) European Convention on Human Rights\n"
          ],
          "name": "stdout"
        }
      ]
    },
    {
      "cell_type": "markdown",
      "metadata": {
        "id": "4-fMX2FcbkNH",
        "colab_type": "text"
      },
      "source": [
        "### Compound case reference detection\n",
        "\n",
        "The compound case reference detection component in Blackstone is designed to marry up `CITATION` entities with their parent `CASENAME` entities. \n",
        "\n",
        "Common law jurisdictions typically relate to case references through a coupling of a name (typically derived from the names of the parties in the case) and some unique citation to identify where the case has been reported, like so:\n",
        "\n",
        "> Regina v Horncastle \\[2010] 2 AC 373\n",
        "\n",
        "Blackstone's NER model separately attempts to identify the `CASENAME` and `CITATION` entities. However, it is potentially useful (particularly in the context of information extraction) to pull these entities out as pairs. \n",
        "\n",
        "`CompoundCases()` applies a custom pipe after the NER and identifies `CASENAME`/`CITATION` pairs in two scenarios:\n",
        "\n",
        "* The standard scenario: Gelmini v Moriggia \\[1913] 2 KB 549\n",
        "* The possessive scenario (which is a little antiquated): Jone's case \\[1915] 1 KB 45"
      ]
    },
    {
      "cell_type": "code",
      "metadata": {
        "id": "nxa84sAabs7r",
        "colab_type": "code",
        "outputId": "35ff418d-5983-4562-c9b9-626d0711c520",
        "colab": {
          "base_uri": "https://localhost:8080/",
          "height": 51
        }
      },
      "source": [
        "import spacy\n",
        "from blackstone.pipeline.compound_cases import CompoundCases\n",
        "\n",
        "nlp = spacy.load(\"en_blackstone_proto\")\n",
        "\n",
        "compound_pipe = CompoundCases(nlp)\n",
        "nlp.add_pipe(compound_pipe)\n",
        "\n",
        "text = \"As I have indicated, this was the central issue before the judge. On this issue the defendants relied (successfully below) on the decision of the High Court in Gelmini v Moriggia [1913] 2 KB 549. In Jone's case [1915] 1 KB 45, the defendant wore a hat.\"\n",
        "doc = nlp(text)\n",
        "\n",
        "for compound_ref in doc._.compound_cases:\n",
        "    print(compound_ref)"
      ],
      "execution_count": 10,
      "outputs": [
        {
          "output_type": "stream",
          "text": [
            "Gelmini v Moriggia [1913] 2 KB 549\n",
            "Jone's case [1915] 1 KB 45\n"
          ],
          "name": "stdout"
        }
      ]
    },
    {
      "cell_type": "markdown",
      "metadata": {
        "id": "X0NqYnbaac2T",
        "colab_type": "text"
      },
      "source": [
        "### Abbreviation detection and long-form definition resolution\n",
        "\n",
        "It is not uncommon for authors of legal documents to abbreviate long-winded terms that will be used instead of the long-form througout the rest of the document. For example,\n",
        "\n",
        "> The European Court of Human Rights (\"ECtHR\") is the court ultimately responsible for applying the European Convention on Human Rights (\"ECHR\"). \n",
        "\n",
        "The abbreviation detection component in Blackstone seeks to address this by implementing an ever so slightly modified version of [scispaCy's](https://allenai.github.io/scispacy/) `AbbreviationDetector()` (which is itself an implementation of the approach set out in this paper: https://psb.stanford.edu/psb-online/proceedings/psb03/schwartz.pdf). Our implementation still has some problems, but an example of its usage is as follows:"
      ]
    },
    {
      "cell_type": "code",
      "metadata": {
        "id": "LDDRXJc4an2x",
        "colab_type": "code",
        "outputId": "9b44f36e-dce2-4d4e-a203-46da9f64f518",
        "colab": {
          "base_uri": "https://localhost:8080/",
          "height": 68
        }
      },
      "source": [
        "import spacy\n",
        "from blackstone.pipeline.abbreviations import AbbreviationDetector\n",
        "\n",
        "nlp = spacy.load(\"en_blackstone_proto\")\n",
        "\n",
        "# Add the abbreviation pipe to the spacy pipeline.\n",
        "abbreviation_pipe = AbbreviationDetector(nlp)\n",
        "nlp.add_pipe(abbreviation_pipe)\n",
        "\n",
        "doc = nlp('The European Court of Human Rights (\"ECtHR\") is the court ultimately responsible for applying the European Convention on Human Rights (\"ECHR\").')\n",
        "\n",
        "print(\"Abbreviation\", \"\\t\", \"Definition\")\n",
        "for abrv in doc._.abbreviations:\n",
        "\tprint(f\"{abrv} \\t ({abrv.start}, {abrv.end}) {abrv._.long_form}\")"
      ],
      "execution_count": 11,
      "outputs": [
        {
          "output_type": "stream",
          "text": [
            "Abbreviation \t Definition\n",
            "\"ECtHR\" \t (7, 10) European Court of Human Rights\n",
            "\"ECHR\" \t (25, 28) European Convention on Human Rights\n"
          ],
          "name": "stdout"
        }
      ]
    },
    {
      "cell_type": "code",
      "metadata": {
        "colab_type": "code",
        "outputId": "87973dcd-4c57-40aa-ba77-faccb5b542c3",
        "id": "Mqk2DRE4g6Mn",
        "colab": {
          "base_uri": "https://localhost:8080/",
          "height": 51
        }
      },
      "source": [
        "import spacy\n",
        "from blackstone.pipeline.compound_cases import CompoundCases\n",
        "\n",
        "nlp = spacy.load(\"en_blackstone_proto\")\n",
        "\n",
        "compound_pipe = CompoundCases(nlp)\n",
        "nlp.add_pipe(compound_pipe)\n",
        "\n",
        "text = \"As I have indicated, this was the central issue before the judge. On this issue the defendants relied (successfully below) on the decision of the High Court in Gelmini v Moriggia [1913] 2 KB 549. In Jone's case [1915] 1 KB 45, the defendant wore a hat.\"\n",
        "doc = nlp(text)\n",
        "\n",
        "for compound_ref in doc._.compound_cases:\n",
        "    print(compound_ref)"
      ],
      "execution_count": 12,
      "outputs": [
        {
          "output_type": "stream",
          "text": [
            "Gelmini v Moriggia [1913] 2 KB 549\n",
            "Jone's case [1915] 1 KB 45\n"
          ],
          "name": "stdout"
        }
      ]
    },
    {
      "cell_type": "markdown",
      "metadata": {
        "id": "33caS39oVNWF",
        "colab_type": "text"
      },
      "source": [
        "### Legislation linker\n",
        "Blackstone's Legislation Linker attempts to couple a reference to a PROVISION to it's parent INSTRUMENT by using the NER model to identify the presence of an INSTRUMENT and then navigating the dependency tree to identify the child provision.\n",
        "\n",
        "Once Blackstone has identified a `PROVISION:INSTRUMENT` pair, it will attempt to generate target URLs to both the provision and the instrument on [legislation.gov.uk.](https://www.legislation.gov.uk)"
      ]
    },
    {
      "cell_type": "code",
      "metadata": {
        "id": "rG7RsVTRVUKU",
        "colab_type": "code",
        "outputId": "a769af43-3523-42ef-a371-2b3cb305123c",
        "colab": {
          "base_uri": "https://localhost:8080/",
          "height": 105
        }
      },
      "source": [
        "import spacy\n",
        "from blackstone.utils.legislation_linker import extract_legislation_relations\n",
        "nlp = spacy.load(\"en_blackstone_proto\")\n",
        "\n",
        "text = \"The Secretary of State was at pains to emphasise that, if a withdrawal agreement is made, it is very likely to be a treaty requiring ratification and as such would have to be submitted for review by Parliament, acting separately, under the negative resolution procedure set out in section 20 of the Constitutional Reform and Governance Act 2010. Theft is defined in section 1 of the Theft Act 1968\"\n",
        "\n",
        "doc = nlp(text) \n",
        "relations = extract_legislation_relations(doc)\n",
        "for provision, provision_url, instrument, instrument_url in relations:\n",
        "    print(f\"\\n{provision}\\t{provision_url}\\t{instrument}\\t{instrument_url}\")"
      ],
      "execution_count": 15,
      "outputs": [
        {
          "output_type": "stream",
          "text": [
            "\n",
            "section 20\thttp://www.legislation.gov.uk/ukpga/2010/25/section/20\tConstitutional Reform and Governance Act 2010\thttp://www.legislation.gov.uk/ukpga/2010/25/contents\n",
            "\n",
            "section 1\thttp://www.legislation.gov.uk/ukpga/1968/60/section/1\tTheft Act 1968\thttp://www.legislation.gov.uk/ukpga/1968/60/contents\n"
          ],
          "name": "stdout"
        }
      ]
    },
    {
      "cell_type": "markdown",
      "metadata": {
        "id": "UE9ZvFgtVhLy",
        "colab_type": "text"
      },
      "source": [
        "### Sentence segmenter\n",
        "Blackstone ships with a custom rule-based sentence segmenter that addresses a range of characteristics inherent in legal texts that have a tendency to baffle out-of-the-box sentence segmentation rules.\n",
        "\n",
        "This behaviour can be extended by optionally passing a list of spaCy-style Matcher patterns that will explicitly prevent sentence boundary detection inside matches."
      ]
    },
    {
      "cell_type": "code",
      "metadata": {
        "id": "uUHy42_QVjLK",
        "colab_type": "code",
        "outputId": "617cb0f7-c367-4cec-cc7e-60b320069806",
        "colab": {
          "base_uri": "https://localhost:8080/",
          "height": 139
        }
      },
      "source": [
        "import spacy\n",
        "from blackstone.pipeline.sentence_segmenter import SentenceSegmenter\n",
        "from blackstone.rules import CITATION_PATTERNS\n",
        "\n",
        "nlp = spacy.load(\"en_blackstone_proto\")\n",
        "\n",
        "# add the Blackstone sentence_segmenter to the pipeline before the parser\n",
        "sentence_segmenter = SentenceSegmenter(nlp.vocab, CITATION_PATTERNS)\n",
        "nlp.add_pipe(sentence_segmenter, before=\"parser\")\n",
        "\n",
        "doc = nlp(\n",
        "    \"\"\"\n",
        "    As we shall explain in more detail in examining the submission of the Secretary of State (see paras 77 and following), it is the Secretary of State’s case that nothing has been done by Parliament in the European Communities Act 1972 or any other statute to remove the prerogative power of the Crown, in the conduct of the international relations of the UK, to take steps to remove the UK from the EU by giving notice under article 50EU for the UK to withdraw from the EU Treaty and other relevant EU Treaties. The Secretary of State relies in particular on Attorney General v De Keyser’s Royal Hotel Ltd [1920] AC 508 and R v Secretary of State for Foreign and Commonwealth Affairs, Ex p Rees-Mogg [1994] QB 552; he contends that the Crown’s prerogative power to cause the UK to withdraw from the EU by giving notice under article 50EU could only have been removed by primary legislation using express words to that effect, alternatively by legislation which has that effect by necessary implication. The Secretary of State contends that neither the ECA 1972 nor any of the other Acts of Parliament referred to have abrogated this aspect of the Crown’s prerogative, either by express words or by necessary implication.\n",
        "    \"\"\"\n",
        ")\n",
        "\n",
        "for sent in doc.sents:\n",
        "    print (sent.text)"
      ],
      "execution_count": 14,
      "outputs": [
        {
          "output_type": "stream",
          "text": [
            "\n",
            "    As we shall explain in more detail in examining the submission of the Secretary of State (see paras 77 and following), it is the Secretary of State’s case that nothing has been done by Parliament in the European Communities Act 1972 or any other statute to remove the prerogative power of the Crown, in the conduct of the international relations of the UK, to take steps to remove the UK from the EU by giving notice under article 50EU for the UK to withdraw from the EU Treaty and other relevant EU Treaties.\n",
            "The Secretary of State relies in particular on Attorney General v De Keyser’s Royal Hotel Ltd [1920] AC 508 and R v Secretary of State for Foreign and Commonwealth Affairs, Ex p Rees-Mogg [1994] QB 552; he contends that the Crown’s prerogative power to cause the UK to withdraw from the EU by giving notice under article 50EU could only have been removed by primary legislation using express words to that effect, alternatively by legislation which has that effect by necessary implication.\n",
            "The Secretary of State contends that neither the ECA 1972 nor any of the other Acts of Parliament referred to have abrogated this aspect of the Crown’s prerogative, either by express words or by necessary implication.\n",
            "\n",
            "    \n"
          ],
          "name": "stdout"
        }
      ]
    }
  ]
}